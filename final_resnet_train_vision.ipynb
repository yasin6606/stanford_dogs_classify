{
 "cells": [
  {
   "cell_type": "markdown",
   "id": "a9bc9d86-0494-44aa-94c1-68504cc0ed02",
   "metadata": {
    "jp-MarkdownHeadingCollapsed": true
   },
   "source": [
    "# GPU info"
   ]
  },
  {
   "cell_type": "code",
   "execution_count": 1,
   "id": "66a1d239-0981-47f2-924f-65a0f6f19ec7",
   "metadata": {},
   "outputs": [
    {
     "name": "stdout",
     "output_type": "stream",
     "text": [
      "Sat Feb  8 18:19:13 2025       \n",
      "+-----------------------------------------------------------------------------------------+\n",
      "| NVIDIA-SMI 560.81                 Driver Version: 560.81         CUDA Version: 12.6     |\n",
      "|-----------------------------------------+------------------------+----------------------+\n",
      "| GPU  Name                  Driver-Model | Bus-Id          Disp.A | Volatile Uncorr. ECC |\n",
      "| Fan  Temp   Perf          Pwr:Usage/Cap |           Memory-Usage | GPU-Util  Compute M. |\n",
      "|                                         |                        |               MIG M. |\n",
      "|=========================================+========================+======================|\n",
      "|   0  NVIDIA GeForce GTX 960M      WDDM  |   00000000:01:00.0 Off |                  N/A |\n",
      "| N/A    0C    P0             N/A /  200W |       0MiB /   4096MiB |      0%      Default |\n",
      "|                                         |                        |                  N/A |\n",
      "+-----------------------------------------+------------------------+----------------------+\n",
      "                                                                                         \n",
      "+-----------------------------------------------------------------------------------------+\n",
      "| Processes:                                                                              |\n",
      "|  GPU   GI   CI        PID   Type   Process name                              GPU Memory |\n",
      "|        ID   ID                                                               Usage      |\n",
      "|=========================================================================================|\n",
      "|  No running processes found                                                             |\n",
      "+-----------------------------------------------------------------------------------------+\n"
     ]
    }
   ],
   "source": [
    "!nvidia-smi"
   ]
  },
  {
   "cell_type": "markdown",
   "id": "585d5e67-c88d-4182-b974-16f800ebb13b",
   "metadata": {
    "jp-MarkdownHeadingCollapsed": true
   },
   "source": [
    "# Import"
   ]
  },
  {
   "cell_type": "code",
   "execution_count": 2,
   "id": "e57acedf-1073-428c-820f-d37b61b24f4b",
   "metadata": {},
   "outputs": [],
   "source": [
    "import torch\n",
    "from torch import nn\n",
    "from torch.utils.data import DataLoader, Dataset, random_split\n",
    "from torch import Tensor\n",
    "from torch import optim\n",
    "\n",
    "import torchvision\n",
    "from torchvision import transforms as T\n",
    "from torchvision.utils import make_grid, save_image\n",
    "from torchvision import models\n",
    "\n",
    "from PIL import Image\n",
    "\n",
    "from scipy.io import loadmat\n",
    "import matplotlib.pyplot as plt\n",
    "import numpy as np\n",
    "import re\n",
    "from os import listdir\n",
    "\n",
    "from tqdm import tqdm\n",
    "from torchmetrics import Accuracy"
   ]
  },
  {
   "cell_type": "code",
   "execution_count": 3,
   "id": "33b1b605-2d68-40fa-ac3a-3c8356e7053b",
   "metadata": {},
   "outputs": [
    {
     "data": {
      "text/plain": [
       "('2.5.1+cu124', '0.20.1+cu124')"
      ]
     },
     "execution_count": 3,
     "metadata": {},
     "output_type": "execute_result"
    }
   ],
   "source": [
    "torch.__version__, torchvision.__version__"
   ]
  },
  {
   "cell_type": "markdown",
   "id": "9ec9ae3f-0aa5-4d93-89d7-6ac4981ff58f",
   "metadata": {
    "jp-MarkdownHeadingCollapsed": true
   },
   "source": [
    "# Device"
   ]
  },
  {
   "cell_type": "code",
   "execution_count": 4,
   "id": "9cc03400-5a0a-4311-9855-44f10622fbee",
   "metadata": {},
   "outputs": [
    {
     "data": {
      "text/plain": [
       "'cuda'"
      ]
     },
     "execution_count": 4,
     "metadata": {},
     "output_type": "execute_result"
    }
   ],
   "source": [
    "device = \"cuda\" if torch.cuda.is_available() else \"cpu\"\n",
    "device"
   ]
  },
  {
   "cell_type": "markdown",
   "id": "352bce4a-6307-4412-8121-11690275753e",
   "metadata": {
    "jp-MarkdownHeadingCollapsed": true
   },
   "source": [
    "# Utils, functions, and classes"
   ]
  },
  {
   "cell_type": "code",
   "execution_count": 5,
   "id": "543f6ce3-c511-4339-9886-529d95038977",
   "metadata": {},
   "outputs": [],
   "source": [
    "def num_params(model, trainable=False):\n",
    "    num = sum([p.numel() for p in model.parameters() if p.requires_grad])\n",
    "    print(f\"The number of parameters: {num:,}\")"
   ]
  },
  {
   "cell_type": "code",
   "execution_count": 6,
   "id": "5809fd12-c2f7-4ff3-a9dc-0bca059b9f79",
   "metadata": {},
   "outputs": [],
   "source": [
    "class Averaging():\n",
    "    def __init__(self):\n",
    "        self.sum = 0.\n",
    "        self.counter = 0\n",
    "\n",
    "    def __call__(self, val: float) -> float:\n",
    "        self.sum += val\n",
    "        self.counter += 1\n",
    "\n",
    "        return self.sum / self.counter\n",
    "\n",
    "    def reset(self):\n",
    "        self.sum = 0.\n",
    "        self.counter = 0"
   ]
  },
  {
   "cell_type": "code",
   "execution_count": 7,
   "id": "02d20f4f-d142-40f8-8554-9aecdb318b26",
   "metadata": {},
   "outputs": [],
   "source": [
    "def train_one_epoch(model, dataloader, optimizer, loss_fn, avg_fn, acc_fn, ep, device):\n",
    "    model.train()\n",
    "    \n",
    "    acc_fn.reset()\n",
    "    avg_fn.reset()\n",
    "    \n",
    "    with tqdm(dataloader, desc=f\"Epoch {ep}\", unit=\" batch\") as trange:\n",
    "       for x_batch, y_batch in trange:\n",
    "           x_batch, y_batch = x_batch.to(device), y_batch.to(device)\n",
    "\n",
    "           # Forward\n",
    "           yp = model(x_batch)\n",
    "           loss = loss_fn(yp, y_batch)\n",
    "           \n",
    "           # Backward\n",
    "           loss.backward()\n",
    "           optimizer.step()\n",
    "           optimizer.zero_grad()\n",
    "\n",
    "           loss_avg = avg_fn(loss.item())\n",
    "           acc_fn(yp, y_batch)\n",
    "           acc_avg = acc_fn.compute().item()\n",
    "\n",
    "           trange.set_postfix(loss=loss_avg, acc=100*acc_avg)\n",
    "    \n",
    "    return model, loss_avg, acc_avg"
   ]
  },
  {
   "cell_type": "code",
   "execution_count": 8,
   "id": "baa4b40c-0509-4573-966a-bfd70f43c3d8",
   "metadata": {},
   "outputs": [],
   "source": [
    "def validate_one_epoch(model, dataloader, loss_fn, avg_fn, acc_fn, device):\n",
    "    model.eval()\n",
    "    \n",
    "    acc_fn.reset()\n",
    "    avg_fn.reset()\n",
    "\n",
    "    with torch.no_grad():\n",
    "        for x_batch, y_batch in dataloader:\n",
    "            x_batch, y_batch = x_batch.to(device), y_batch.to(device)\n",
    "            \n",
    "            # Forward\n",
    "            yp = model(x_batch)\n",
    "            loss = loss_fn(yp, y_batch)\n",
    "            \n",
    "            loss_avg = avg_fn(loss.item())\n",
    "            acc_fn(yp, y_batch)\n",
    "            acc_avg = acc_fn.compute().item()\n",
    "        \n",
    "    return loss_avg, acc_avg"
   ]
  },
  {
   "cell_type": "code",
   "execution_count": 9,
   "id": "749c44ea-e7d0-4a8e-a9a3-0c4eeca27a1b",
   "metadata": {},
   "outputs": [],
   "source": [
    "def plot_loss_acc(train_loss, train_acc, valid_loss, valid_acc):\n",
    "    fig, axs = plt.subplots(nrows=1, ncols=2, figsize=(12, 4))\n",
    "\n",
    "    axs[0].plot(train_loss, c='b', label=\"Train Loss\")\n",
    "    axs[0].plot(valid_loss, c='r', label=\"Valid Loss\")\n",
    "    \n",
    "    axs[1].plot(train_acc, c='b', label=\"Valid Acc\")\n",
    "    axs[1].plot(valid_acc, c='r', label=\"Valid Acc\")\n",
    "\n",
    "    axs[0].set_ylabel(\"Cross Entropy Loss\")\n",
    "    axs[0].set_title(\"Learning Curve\")\n",
    "    axs[1].set_ylabel(\"Accuracy\")\n",
    "    axs[1].set_title(\"Accuracy Curve\")\n",
    "    \n",
    "    for ax in axs:\n",
    "        ax.set_xlabel(\"Epoch\")\n",
    "        ax.legend()\n",
    "        ax.grid()"
   ]
  },
  {
   "cell_type": "markdown",
   "id": "56507cb5-3714-4bb2-8545-6cb11f96897c",
   "metadata": {
    "jp-MarkdownHeadingCollapsed": true
   },
   "source": [
    "# Inits"
   ]
  },
  {
   "cell_type": "code",
   "execution_count": 10,
   "id": "e5c87dad-9b5a-460e-ade2-58a8cbcb2e55",
   "metadata": {},
   "outputs": [],
   "source": [
    "img_size = (224, 224)\n",
    "trans_mean, trans_std = (0.485, 0.456, 0.406), (0.229, 0.224, 0.225)\n",
    "valid_set_size = 0.2\n",
    "train_batch_size = 128\n",
    "valid_batch_size = 256\n",
    "subset_size = 0.3\n",
    "num_cls = 120\n",
    "\n",
    "lr = 0.01\n",
    "epochs = 15\n",
    "\n",
    "loss_fn = nn.CrossEntropyLoss()\n",
    "avg_fn = Averaging()\n",
    "acc_fn = Accuracy(task=\"multiclass\", num_classes=num_cls).to(device)"
   ]
  },
  {
   "cell_type": "markdown",
   "id": "dfa7b9e8-1ea6-4ac3-9d0e-94d59209252f",
   "metadata": {
    "jp-MarkdownHeadingCollapsed": true
   },
   "source": [
    "# Preprocessing <a href=\"http://vision.stanford.edu/aditya86/ImageNetDogs/\">Download Dataset</a>"
   ]
  },
  {
   "cell_type": "markdown",
   "id": "a34c73f2-dc37-42ac-83d2-9413c92654de",
   "metadata": {
    "jp-MarkdownHeadingCollapsed": true
   },
   "source": [
    "## Transforms for images"
   ]
  },
  {
   "cell_type": "code",
   "execution_count": 11,
   "id": "751e3353-9613-4ba3-a937-ebb3078d7c68",
   "metadata": {},
   "outputs": [],
   "source": [
    "train_transforms = T.Compose([T.RandAugment(), T.Resize(img_size), T.ToTensor(), T.Normalize(mean=trans_mean, std=trans_std)])\n",
    "test_transforms = T.Compose([T.Resize(img_size), T.ToTensor(), T.Normalize(mean=trans_mean, std=trans_std)])"
   ]
  },
  {
   "cell_type": "markdown",
   "id": "d2211e1e-f0e9-4a9a-a254-bb6c6ffdbf7f",
   "metadata": {
    "jp-MarkdownHeadingCollapsed": true
   },
   "source": [
    "## Custom dataset"
   ]
  },
  {
   "cell_type": "code",
   "execution_count": 12,
   "id": "c0417854-ce41-45b7-b0c6-f85f1829b5c6",
   "metadata": {},
   "outputs": [],
   "source": [
    "class StanfordDogsDataset(Dataset):\n",
    "    def __init__(self, transforms, phase=\"train\", root_path=r\"./dogs_dataset\"):\n",
    "        self.transforms = transforms\n",
    "        \n",
    "        images_root_path = f\"{root_path}/images/\"\n",
    "        \n",
    "        mat_file = loadmat(root_path+f\"/{phase}_list\")\n",
    "\n",
    "        self.file_list = mat_file[\"file_list\"]\n",
    "        self.labels = torch.LongTensor(mat_file[\"labels\"]).squeeze() - 1\n",
    "        \n",
    "        self.images = [(images_root_path+f[0][0], l.item()) for f, l in zip(self.file_list, self.labels)]\n",
    "\n",
    "        # unique samples\n",
    "        self.sample_ls = []\n",
    "        pattern = r'-(\\w+)'\n",
    "        for sample in listdir(\"./dogs_dataset/Annotation\"):\n",
    "            match = re.search(pattern, sample.lower())\n",
    "            if match:\n",
    "                self.sample_ls.append(match.group(1))\n",
    "\n",
    "    def __getitem__(self, item_idx: int):\n",
    "        img_path, label = self.images[item_idx]\n",
    "        img = Image.open(img_path).convert(\"RGB\")\n",
    "        img = self.transforms(img)\n",
    "        \n",
    "        return img, label\n",
    "\n",
    "    def get_sample_name(self, label: int):\n",
    "        return self.sample_ls[label]\n",
    "        \n",
    "    def __len__(self):\n",
    "        return len(self.images)"
   ]
  },
  {
   "cell_type": "markdown",
   "id": "ea1e7353-dd17-420b-a53f-ca53497c6ce4",
   "metadata": {
    "jp-MarkdownHeadingCollapsed": true
   },
   "source": [
    "## Read datasets"
   ]
  },
  {
   "cell_type": "code",
   "execution_count": 13,
   "id": "2661718c-a697-484e-8d63-c961a47eb1c2",
   "metadata": {},
   "outputs": [],
   "source": [
    "main_train_set = StanfordDogsDataset(train_transforms)\n",
    "test_set = StanfordDogsDataset(test_transforms, \"test\")"
   ]
  },
  {
   "cell_type": "markdown",
   "id": "559ba121-8403-4619-827e-d5fdd31c0276",
   "metadata": {
    "jp-MarkdownHeadingCollapsed": true
   },
   "source": [
    "## Split train and valid sets"
   ]
  },
  {
   "cell_type": "code",
   "execution_count": 14,
   "id": "2a850e91-564d-4623-9b6c-c4a3fcda44ee",
   "metadata": {},
   "outputs": [],
   "source": [
    "train_set, valid_set = random_split(main_train_set, lengths=[1 - valid_set_size, valid_set_size])"
   ]
  },
  {
   "cell_type": "markdown",
   "id": "438ad1fc-f5cc-42dc-8551-4aa6fc4098ff",
   "metadata": {
    "jp-MarkdownHeadingCollapsed": true
   },
   "source": [
    "## Make dataloader"
   ]
  },
  {
   "cell_type": "code",
   "execution_count": 15,
   "id": "73427acb-52b8-43b9-9b73-c378c620c49a",
   "metadata": {},
   "outputs": [],
   "source": [
    "train_loader = DataLoader(train_set, train_batch_size, shuffle=True)\n",
    "valid_loader = DataLoader(valid_set, valid_batch_size)\n",
    "test_loader = DataLoader(test_set, valid_batch_size)"
   ]
  },
  {
   "cell_type": "markdown",
   "id": "de1de4f0-7d2d-4449-8f0c-5ed8425bc8ec",
   "metadata": {
    "jp-MarkdownHeadingCollapsed": true
   },
   "source": [
    "## Visialize a batch"
   ]
  },
  {
   "cell_type": "code",
   "execution_count": 16,
   "id": "3238c6d3-915e-497e-b92d-4804574fbb55",
   "metadata": {},
   "outputs": [
    {
     "data": {
      "text/plain": [
       "(torch.Size([128, 3, 224, 224]),\n",
       " tensor([100,  83,  72, 111,  29, 119,  98,   3,   3, 118,   6,  68,  56,  31,\n",
       "          97,  11,  94,  39, 107,  51,  12,  14,  32, 110,  46, 112,   5,  67,\n",
       "          40, 113,  31,   9,   3,  46,  25,  52, 116, 108,  31,  13,  87,  78,\n",
       "          69,  43,  43,  68,   7,  20,  18,  47, 116, 116,  31,  84,   0,  67,\n",
       "          64,  82, 102,  43,  63,  91,  18, 114,  24,  35,  63,  81,  13,  17,\n",
       "          12,  19,  43,  18,  78,   4,   2,  86,  79,  36,  34,  90,  66,  18,\n",
       "          56,  26,  15,  85,  10,  85,  83,  72,  99,  20,   8,  50,  33,  46,\n",
       "           0,  24, 119,  26,  45,   5,  50, 110,  61,  87,  50,  71,   4, 103,\n",
       "          15,  14, 103,   7, 119,  75,  83,  30, 104,  20,  57,  30, 112,  72,\n",
       "          27, 108]))"
      ]
     },
     "execution_count": 16,
     "metadata": {},
     "output_type": "execute_result"
    }
   ],
   "source": [
    "x, y = next(iter(train_loader))\n",
    "\n",
    "x.shape, y"
   ]
  },
  {
   "cell_type": "code",
   "execution_count": 17,
   "id": "4718b743-29a8-4bc9-91d3-8fc50471b02e",
   "metadata": {},
   "outputs": [
    {
     "data": {
      "image/png": "[encoded data removed]",
      "text/plain": [
       "<Figure size 640x480 with 1 Axes>"
      ]
     },
     "metadata": {},
     "output_type": "display_data"
    }
   ],
   "source": [
    "img_grid = make_grid(x, nrow=32, padding=6, normalize=True).permute(1, 2, 0)\n",
    "\n",
    "plt.title(\"A batch images\")\n",
    "plt.imshow(img_grid);"
   ]
  },
  {
   "cell_type": "markdown",
   "id": "82151b77-be79-4d6c-9548-4c27947395db",
   "metadata": {
    "jp-MarkdownHeadingCollapsed": true
   },
   "source": [
    "# Model"
   ]
  },
  {
   "cell_type": "code",
   "execution_count": 18,
   "id": "1df65098-dfad-4c91-a0bc-63dfd38bef1a",
   "metadata": {},
   "outputs": [],
   "source": [
    "class CustomResNet(nn.Module):\n",
    "    def __init__(self, model=models.resnet50, pretrained_weights=models.ResNet50_Weights.IMAGENET1K_V2, num_cls:int=120):\n",
    "        super(CustomResNet, self).__init__()\n",
    "\n",
    "        self.model = model(weights=pretrained_weights)\n",
    "        in_features = self.model.fc.in_features\n",
    "        self.num_cls = num_cls\n",
    "\n",
    "        # Remove the last two layers (AvgPool and FC) to just use the output Feature Map of the Body\n",
    "        self.model = nn.Sequential(*list(self.model.children())[:-2])\n",
    "\n",
    "        self.avg_pool = nn.AdaptiveAvgPool2d(output_size=(1, 1))\n",
    "        self.fc = nn.Linear(in_features=in_features, out_features=self.num_cls)\n",
    "\n",
    "        # Freeze the Body of the model for fine-tunning (Just train the output layer)\n",
    "        self.model.requires_grad_(False)\n",
    "    \n",
    "    def forward(self, x: Tensor):\n",
    "        y = self.model(x)\n",
    "        y = self.avg_pool(y)\n",
    "        y = self.fc(y.flatten(1))\n",
    "        \n",
    "        return y"
   ]
  },
  {
   "cell_type": "markdown",
   "id": "ed9ee2b9-cbc2-4edf-8c79-0a334ad0319b",
   "metadata": {},
   "source": [
    "# Check forward and backward"
   ]
  },
  {
   "attachments": {},
   "cell_type": "markdown",
   "id": "6ec5fb80-d945-4b21-90eb-c3b80842a885",
   "metadata": {
    "jp-MarkdownHeadingCollapsed": true
   },
   "source": [
    "## Create a subset"
   ]
  },
  {
   "cell_type": "markdown",
   "id": "c463c862-40fd-45de-a52f-7cdc026a0714",
   "metadata": {
    "jp-MarkdownHeadingCollapsed": true
   },
   "source": [
    "### Mini train set"
   ]
  },
  {
   "cell_type": "code",
   "execution_count": 19,
   "id": "711c7c30-cc2b-445f-a5a3-eb3477166972",
   "metadata": {},
   "outputs": [],
   "source": [
    "_, train_subset = random_split(train_set, lengths=[1 - subset_size, subset_size])\n",
    "mini_train_loader = DataLoader(train_subset, train_batch_size, shuffle=True)"
   ]
  },
  {
   "cell_type": "markdown",
   "id": "cb275941-c349-4d11-8cde-fb0046960568",
   "metadata": {
    "jp-MarkdownHeadingCollapsed": true
   },
   "source": [
    "### Mini valid set"
   ]
  },
  {
   "cell_type": "code",
   "execution_count": 20,
   "id": "7b4fa6ba-6b5a-477d-b615-2fbde02bb39f",
   "metadata": {},
   "outputs": [],
   "source": [
    "_, valid_subset = random_split(valid_set, lengths=[1 - subset_size, subset_size])\n",
    "mini_valid_loader = DataLoader(valid_subset, valid_batch_size)"
   ]
  },
  {
   "cell_type": "markdown",
   "id": "17d14b86-491c-4009-9423-88a83fe8e897",
   "metadata": {
    "jp-MarkdownHeadingCollapsed": true
   },
   "source": [
    "## Check forward path"
   ]
  },
  {
   "cell_type": "code",
   "execution_count": 21,
   "id": "106d0bcd-6499-4d7f-b10e-1cea097fdef9",
   "metadata": {},
   "outputs": [
    {
     "name": "stdout",
     "output_type": "stream",
     "text": [
      "The number of parameters: 245,880\n"
     ]
    },
    {
     "data": {
      "text/plain": [
       "4.785780429840088"
      ]
     },
     "execution_count": 21,
     "metadata": {},
     "output_type": "execute_result"
    }
   ],
   "source": [
    "model = CustomResNet().to(device)\n",
    "num_params(model)\n",
    "\n",
    "with torch.no_grad():\n",
    "    yp = model(x.to(device))\n",
    "    loss = loss_fn(yp, y.to(device))\n",
    "\n",
    "torch.cuda.empty_cache()\n",
    "\n",
    "loss.item()"
   ]
  },
  {
   "cell_type": "markdown",
   "id": "ea06b2d7-7f90-4279-af4b-ff5912628b4e",
   "metadata": {},
   "source": [
    "## Check backward path"
   ]
  },
  {
   "cell_type": "code",
   "execution_count": 22,
   "id": "977bc8cf-c7f9-48c6-b619-7443720bde19",
   "metadata": {},
   "outputs": [
    {
     "name": "stderr",
     "output_type": "stream",
     "text": [
      "Epoch 0: 100%|████████████████████████████████████████████████| 23/23 [01:25<00:00,  3.73s/ batch, acc=12.3, loss=4.63]\n"
     ]
    },
    {
     "name": "stdout",
     "output_type": "stream",
     "text": [
      "Valid acc: 40.1, loss: 4.35\n"
     ]
    },
    {
     "name": "stderr",
     "output_type": "stream",
     "text": [
      "Epoch 1: 100%|████████████████████████████████████████████████| 23/23 [00:59<00:00,  2.60s/ batch, acc=56.1, loss=3.97]\n"
     ]
    },
    {
     "name": "stdout",
     "output_type": "stream",
     "text": [
      "Valid acc: 55.3, loss: 3.72\n"
     ]
    },
    {
     "name": "stderr",
     "output_type": "stream",
     "text": [
      "Epoch 2: 100%|████████████████████████████████████████████████| 23/23 [00:59<00:00,  2.59s/ batch, acc=68.1, loss=3.29]\n"
     ]
    },
    {
     "name": "stdout",
     "output_type": "stream",
     "text": [
      "Valid acc: 61.1, loss: 3.15\n"
     ]
    }
   ],
   "source": [
    "model = CustomResNet().to(device)\n",
    "optimizer = optim.SGD(params=model.parameters(), lr=lr, momentum=0.9)\n",
    "\n",
    "for ep in range(3):\n",
    "    model, _, _ = train_one_epoch(model, mini_train_loader, optimizer, loss_fn, avg_fn, acc_fn, ep, device)\n",
    "    valid_loss_val, valid_acc_val = validate_one_epoch(model, mini_valid_loader, loss_fn, avg_fn, acc_fn, device)\n",
    "    \n",
    "    print(f\"Valid acc: {100*valid_acc_val:.3}, loss: {valid_loss_val:.3}\")\n",
    "\n",
    "torch.cuda.empty_cache()"
   ]
  },
  {
   "cell_type": "markdown",
   "id": "ed4765bc-17e2-4c22-99b8-af4b5daba23c",
   "metadata": {},
   "source": [
    "# Find efficient hyper-parameters"
   ]
  },
  {
   "cell_type": "code",
   "execution_count": 23,
   "id": "c08ca65d-4b4e-48a8-a938-f387ee80ad3a",
   "metadata": {},
   "outputs": [
    {
     "name": "stdout",
     "output_type": "stream",
     "text": [
      "\n",
      "lr: 0.001\n"
     ]
    },
    {
     "name": "stderr",
     "output_type": "stream",
     "text": [
      "Epoch 0: 100%|████████████████████████████████████████████████| 75/75 [04:14<00:00,  3.39s/ batch, acc=4.96, loss=4.71]\n",
      "Epoch 1: 100%|████████████████████████████████████████████████| 75/75 [03:25<00:00,  2.74s/ batch, acc=30.2, loss=4.49]\n"
     ]
    },
    {
     "name": "stdout",
     "output_type": "stream",
     "text": [
      "\n",
      "lr: 0.01\n"
     ]
    },
    {
     "name": "stderr",
     "output_type": "stream",
     "text": [
      "Epoch 0: 100%|████████████████████████████████████████████████| 75/75 [03:18<00:00,  2.65s/ batch, acc=48.5, loss=3.98]\n",
      "Epoch 1: 100%|████████████████████████████████████████████████| 75/75 [03:18<00:00,  2.65s/ batch, acc=80.8, loss=2.26]\n"
     ]
    },
    {
     "name": "stdout",
     "output_type": "stream",
     "text": [
      "\n",
      "lr: 0.02\n"
     ]
    },
    {
     "name": "stderr",
     "output_type": "stream",
     "text": [
      "Epoch 0: 100%|██████████████████████████████████████████████████| 75/75 [03:19<00:00,  2.66s/ batch, acc=56, loss=3.31]\n",
      "Epoch 1: 100%|█████████████████████████████████████████████████| 75/75 [03:21<00:00,  2.69s/ batch, acc=84.2, loss=1.2]\n"
     ]
    }
   ],
   "source": [
    "for lr in [0.001, 0.01, 0.02]:\n",
    "    model = CustomResNet().to(device)\n",
    "    optimizer = optim.SGD(params=model.parameters(), lr=lr, momentum=0.9)\n",
    "\n",
    "    print(f\"\\nlr: {lr}\")\n",
    "    for ep in range(2):\n",
    "        model, _, _ = train_one_epoch(model, train_loader, optimizer, loss_fn, avg_fn, acc_fn, ep, device)\n",
    "\n",
    "torch.cuda.empty_cache()"
   ]
  },
  {
   "cell_type": "markdown",
   "id": "46fa8938-9102-4106-abd4-b33e5606153e",
   "metadata": {},
   "source": [
    "# Full train"
   ]
  },
  {
   "cell_type": "code",
   "execution_count": 27,
   "id": "2ff015ca-ccaa-4f63-a18e-f8f1b14fde7f",
   "metadata": {},
   "outputs": [
    {
     "name": "stdout",
     "output_type": "stream",
     "text": [
      "The number of parameters: 245,880\n"
     ]
    }
   ],
   "source": [
    "model = CustomResNet().to(device)\n",
    "optimizer = optim.SGD(params=model.parameters(), lr=0.02, momentum=0.9)\n",
    "\n",
    "num_params(model)"
   ]
  },
  {
   "cell_type": "code",
   "execution_count": 28,
   "id": "3bac4bae-2d2c-4650-819e-b0f76f6acc1c",
   "metadata": {},
   "outputs": [],
   "source": [
    "train_loss_hist, valid_loss_hist, train_acc_hist, valid_acc_hist = [], [], [], []"
   ]
  },
  {
   "cell_type": "code",
   "execution_count": 29,
   "id": "7d955279-f6df-4e8b-92d3-89a7329e749b",
   "metadata": {},
   "outputs": [
    {
     "name": "stderr",
     "output_type": "stream",
     "text": [
      "Epoch 0: 100%|████████████████████████████████████████████████| 75/75 [03:18<00:00,  2.65s/ batch, acc=55.3, loss=3.32]\n"
     ]
    },
    {
     "name": "stdout",
     "output_type": "stream",
     "text": [
      "Valid acc: 81.0, loss: 1.83\n"
     ]
    },
    {
     "name": "stderr",
     "output_type": "stream",
     "text": [
      "Epoch 1: 100%|█████████████████████████████████████████████████| 75/75 [04:08<00:00,  3.32s/ batch, acc=84.3, loss=1.2]\n"
     ]
    },
    {
     "name": "stdout",
     "output_type": "stream",
     "text": [
      "Valid acc: 83.0, loss: 0.952\n"
     ]
    },
    {
     "name": "stderr",
     "output_type": "stream",
     "text": [
      "Epoch 2: 100%|███████████████████████████████████████████████| 75/75 [03:42<00:00,  2.96s/ batch, acc=85.9, loss=0.762]\n"
     ]
    },
    {
     "name": "stdout",
     "output_type": "stream",
     "text": [
      "Valid acc: 84.3, loss: 0.75\n"
     ]
    },
    {
     "name": "stderr",
     "output_type": "stream",
     "text": [
      "Epoch 3: 100%|███████████████████████████████████████████████| 75/75 [03:19<00:00,  2.66s/ batch, acc=87.7, loss=0.616]\n"
     ]
    },
    {
     "name": "stdout",
     "output_type": "stream",
     "text": [
      "Valid acc: 84.3, loss: 0.665\n"
     ]
    },
    {
     "name": "stderr",
     "output_type": "stream",
     "text": [
      "Epoch 4: 100%|███████████████████████████████████████████████| 75/75 [03:19<00:00,  2.66s/ batch, acc=88.5, loss=0.546]\n"
     ]
    },
    {
     "name": "stdout",
     "output_type": "stream",
     "text": [
      "Valid acc: 84.3, loss: 0.625\n"
     ]
    },
    {
     "name": "stderr",
     "output_type": "stream",
     "text": [
      "Epoch 5: 100%|███████████████████████████████████████████████| 75/75 [03:18<00:00,  2.65s/ batch, acc=89.6, loss=0.486]\n"
     ]
    },
    {
     "name": "stdout",
     "output_type": "stream",
     "text": [
      "Valid acc: 84.6, loss: 0.593\n"
     ]
    },
    {
     "name": "stderr",
     "output_type": "stream",
     "text": [
      "Epoch 6: 100%|███████████████████████████████████████████████| 75/75 [03:19<00:00,  2.66s/ batch, acc=89.9, loss=0.454]\n"
     ]
    },
    {
     "name": "stdout",
     "output_type": "stream",
     "text": [
      "Valid acc: 84.6, loss: 0.577\n"
     ]
    },
    {
     "name": "stderr",
     "output_type": "stream",
     "text": [
      "Epoch 7: 100%|███████████████████████████████████████████████| 75/75 [04:29<00:00,  3.59s/ batch, acc=90.5, loss=0.421]\n"
     ]
    },
    {
     "name": "stdout",
     "output_type": "stream",
     "text": [
      "Valid acc: 84.9, loss: 0.566\n"
     ]
    },
    {
     "name": "stderr",
     "output_type": "stream",
     "text": [
      "Epoch 8: 100%|███████████████████████████████████████████████| 75/75 [03:18<00:00,  2.65s/ batch, acc=91.1, loss=0.405]\n"
     ]
    },
    {
     "name": "stdout",
     "output_type": "stream",
     "text": [
      "Valid acc: 85.9, loss: 0.534\n"
     ]
    },
    {
     "name": "stderr",
     "output_type": "stream",
     "text": [
      "Epoch 9: 100%|███████████████████████████████████████████████| 75/75 [03:18<00:00,  2.64s/ batch, acc=91.3, loss=0.386]\n"
     ]
    },
    {
     "name": "stdout",
     "output_type": "stream",
     "text": [
      "Valid acc: 85.4, loss: 0.528\n"
     ]
    },
    {
     "name": "stderr",
     "output_type": "stream",
     "text": [
      "Epoch 10: 100%|███████████████████████████████████████████████| 75/75 [03:18<00:00,  2.65s/ batch, acc=91.6, loss=0.37]\n"
     ]
    },
    {
     "name": "stdout",
     "output_type": "stream",
     "text": [
      "Valid acc: 84.8, loss: 0.544\n"
     ]
    },
    {
     "name": "stderr",
     "output_type": "stream",
     "text": [
      "Epoch 11: 100%|██████████████████████████████████████████████| 75/75 [03:18<00:00,  2.65s/ batch, acc=92.3, loss=0.344]\n"
     ]
    },
    {
     "name": "stdout",
     "output_type": "stream",
     "text": [
      "Valid acc: 85.8, loss: 0.522\n"
     ]
    },
    {
     "name": "stderr",
     "output_type": "stream",
     "text": [
      "Epoch 12: 100%|██████████████████████████████████████████████| 75/75 [03:18<00:00,  2.65s/ batch, acc=92.7, loss=0.329]\n"
     ]
    },
    {
     "name": "stdout",
     "output_type": "stream",
     "text": [
      "Valid acc: 84.9, loss: 0.524\n"
     ]
    },
    {
     "name": "stderr",
     "output_type": "stream",
     "text": [
      "Epoch 13: 100%|██████████████████████████████████████████████| 75/75 [03:19<00:00,  2.65s/ batch, acc=92.8, loss=0.316]\n"
     ]
    },
    {
     "name": "stdout",
     "output_type": "stream",
     "text": [
      "Valid acc: 85.1, loss: 0.533\n"
     ]
    },
    {
     "name": "stderr",
     "output_type": "stream",
     "text": [
      "Epoch 14: 100%|██████████████████████████████████████████████| 75/75 [03:18<00:00,  2.65s/ batch, acc=92.9, loss=0.311]\n"
     ]
    },
    {
     "name": "stdout",
     "output_type": "stream",
     "text": [
      "Valid acc: 85.5, loss: 0.528\n"
     ]
    }
   ],
   "source": [
    "best_acc = 0\n",
    "save_model = None\n",
    "\n",
    "for ep in range(epochs):\n",
    "    model, train_loss_val, train_acc_val = train_one_epoch(model, train_loader, optimizer, loss_fn, avg_fn, acc_fn, ep, device)\n",
    "    valid_loss_val, valid_acc_val = validate_one_epoch(model, valid_loader, loss_fn, avg_fn, acc_fn, device)\n",
    "\n",
    "    train_loss_hist.append(train_loss_val)\n",
    "    valid_loss_hist.append(valid_loss_val)\n",
    "    train_acc_hist.append(train_acc_val)\n",
    "    valid_acc_hist.append(valid_acc_val)\n",
    "\n",
    "    if valid_acc_val > best_acc:\n",
    "        save_model = model\n",
    "    \n",
    "    print(f\"Valid acc: {100*valid_acc_val:.3}, loss: {valid_loss_val:.3}\")\n",
    "\n",
    "torch.cuda.empty_cache()"
   ]
  },
  {
   "cell_type": "markdown",
   "id": "1369e24d-55ae-4a8e-ad57-ff60e5c516a5",
   "metadata": {},
   "source": [
    "# Plot loss and accuracy"
   ]
  },
  {
   "cell_type": "code",
   "execution_count": 30,
   "id": "d1fb17e5-db3b-44ef-a651-72e9bc2539c0",
   "metadata": {},
   "outputs": [
    {
     "data": {
      "image/png": "[encoded data removed]",
      "text/plain": [
       "<Figure size 1200x400 with 2 Axes>"
      ]
     },
     "metadata": {},
     "output_type": "display_data"
    }
   ],
   "source": [
    "plot_loss_acc(train_loss_hist, train_acc_hist, valid_loss_hist, valid_acc_hist)"
   ]
  },
  {
   "cell_type": "markdown",
   "id": "7d7e1bdc-9869-4377-b976-4405713e6475",
   "metadata": {},
   "source": [
    "## Save the trained model"
   ]
  },
  {
   "cell_type": "code",
   "execution_count": 39,
   "id": "a1cf1e78-12bb-49f6-a878-cd4ce675beda",
   "metadata": {},
   "outputs": [],
   "source": [
    "torch.save(save_model, f\"final_model.pt\")"
   ]
  },
  {
   "cell_type": "markdown",
   "id": "a6ffd225-fbe3-4f8b-b65c-4262666b61a3",
   "metadata": {},
   "source": [
    "# Final test and report"
   ]
  },
  {
   "cell_type": "markdown",
   "id": "0e8dc0a1-d110-4da5-bd75-ef58b8a04764",
   "metadata": {},
   "source": [
    "## Load the trained model"
   ]
  },
  {
   "cell_type": "code",
   "execution_count": 40,
   "id": "9bd6a962-2c88-4099-b37c-fc0604cfc4ff",
   "metadata": {},
   "outputs": [],
   "source": [
    "final_model = torch.load(\"./final_model.pt\", weights_only=False).to(device)"
   ]
  },
  {
   "cell_type": "markdown",
   "id": "e2223688-1cf7-4f69-8c90-38b2e0458c16",
   "metadata": {},
   "source": [
    "## Run and report the model on Testset"
   ]
  },
  {
   "cell_type": "code",
   "execution_count": 41,
   "id": "51a8c043-4115-4e5c-bc7d-52ca6c7e701e",
   "metadata": {},
   "outputs": [],
   "source": [
    "loss, acc = validate_one_epoch(final_model, test_loader, loss_fn, avg_fn, acc_fn, device)\n",
    "\n",
    "torch.cuda.empty_cache()"
   ]
  },
  {
   "cell_type": "code",
   "execution_count": 42,
   "id": "a5bfaf16-ba3f-419b-9d41-0ce8f853efbd",
   "metadata": {},
   "outputs": [
    {
     "name": "stdout",
     "output_type": "stream",
     "text": [
      "Testset report on (8580) samples:\n",
      "\tCros Entropy Loss: 0.3806\n",
      "\tAccuracy: 88.76\n"
     ]
    }
   ],
   "source": [
    "print(f\"Testset report on ({len(test_set)}) samples:\\n\\tCros Entropy Loss: {loss:.4}\\n\\tAccuracy: {100*acc:.4}\")"
   ]
  },
  {
   "cell_type": "markdown",
   "id": "6d4aa40e-7377-40e1-985e-94b202c9f193",
   "metadata": {},
   "source": [
    "## Test your desiered image"
   ]
  },
  {
   "cell_type": "code",
   "execution_count": 43,
   "id": "6f78aa8d-5892-4ce0-b21f-dd7f23201a4c",
   "metadata": {},
   "outputs": [
    {
     "name": "stdout",
     "output_type": "stream",
     "text": [
      "The kind of dog is: rottweiler\n"
     ]
    }
   ],
   "source": [
    "test_img = Image.open(r\"./self_test_dogs_images/rottweiler-1-1.jpg\")\n",
    "\n",
    "res = final_model(test_transforms(test_img).unsqueeze(0).to(device))\n",
    "soft = torch.softmax(res, dim=1)\n",
    "res = torch.argmax(soft).item()\n",
    "res = test_set.get_sample_name(res)\n",
    "\n",
    "print(f\"The kind of dog is: {res}\")"
   ]
  }
 ],
 "metadata": {
  "kernelspec": {
   "display_name": "Python 3 (ipykernel)",
   "language": "python",
   "name": "python3"
  },
  "language_info": {
   "codemirror_mode": {
    "name": "ipython",
    "version": 3
   },
   "file_extension": ".py",
   "mimetype": "text/x-python",
   "name": "python",
   "nbconvert_exporter": "python",
   "pygments_lexer": "ipython3",
   "version": "3.12.5"
  }
 },
 "nbformat": 4,
 "nbformat_minor": 5
}
