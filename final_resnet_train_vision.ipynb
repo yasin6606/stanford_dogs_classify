{
 "cells": [
  {
   "cell_type": "markdown",
   "id": "a9bc9d86-0494-44aa-94c1-68504cc0ed02",
   "metadata": {
    "jp-MarkdownHeadingCollapsed": true
   },
   "source": [
    "# GPU info"
   ]
  },
  {
   "cell_type": "code",
   "execution_count": 1,
   "id": "66a1d239-0981-47f2-924f-65a0f6f19ec7",
   "metadata": {},
   "outputs": [
    {
     "name": "stdout",
     "output_type": "stream",
     "text": [
      "Fri Feb  7 22:30:44 2025       \n",
      "+-----------------------------------------------------------------------------------------+\n",
      "| NVIDIA-SMI 560.81                 Driver Version: 560.81         CUDA Version: 12.6     |\n",
      "|-----------------------------------------+------------------------+----------------------+\n",
      "| GPU  Name                  Driver-Model | Bus-Id          Disp.A | Volatile Uncorr. ECC |\n",
      "| Fan  Temp   Perf          Pwr:Usage/Cap |           Memory-Usage | GPU-Util  Compute M. |\n",
      "|                                         |                        |               MIG M. |\n",
      "|=========================================+========================+======================|\n",
      "|   0  NVIDIA GeForce GTX 960M      WDDM  |   00000000:01:00.0 Off |                  N/A |\n",
      "| N/A    0C    P0             N/A /  200W |       0MiB /   4096MiB |      0%      Default |\n",
      "|                                         |                        |                  N/A |\n",
      "+-----------------------------------------+------------------------+----------------------+\n",
      "                                                                                         \n",
      "+-----------------------------------------------------------------------------------------+\n",
      "| Processes:                                                                              |\n",
      "|  GPU   GI   CI        PID   Type   Process name                              GPU Memory |\n",
      "|        ID   ID                                                               Usage      |\n",
      "|=========================================================================================|\n",
      "|  No running processes found                                                             |\n",
      "+-----------------------------------------------------------------------------------------+\n"
     ]
    }
   ],
   "source": [
    "!nvidia-smi"
   ]
  },
  {
   "cell_type": "markdown",
   "id": "585d5e67-c88d-4182-b974-16f800ebb13b",
   "metadata": {
    "jp-MarkdownHeadingCollapsed": true
   },
   "source": [
    "# Import"
   ]
  },
  {
   "cell_type": "code",
   "execution_count": 269,
   "id": "e57acedf-1073-428c-820f-d37b61b24f4b",
   "metadata": {},
   "outputs": [],
   "source": [
    "import torch\n",
    "from torch import nn\n",
    "from torch.utils.data import DataLoader, Dataset, random_split\n",
    "from torch import Tensor\n",
    "from torch import optim\n",
    "\n",
    "import torchvision\n",
    "from torchvision import transforms as T\n",
    "from torchvision.utils import make_grid, save_image\n",
    "from torchvision import models\n",
    "\n",
    "from PIL import Image\n",
    "\n",
    "from scipy.io import loadmat\n",
    "import matplotlib.pyplot as plt\n",
    "import numpy as np\n",
    "import re\n",
    "from os import listdir\n",
    "\n",
    "from tqdm import tqdm\n",
    "from torchmetrics import Accuracy"
   ]
  },
  {
   "cell_type": "code",
   "execution_count": 3,
   "id": "33b1b605-2d68-40fa-ac3a-3c8356e7053b",
   "metadata": {},
   "outputs": [
    {
     "data": {
      "text/plain": [
       "('2.5.1+cu124', '0.20.1+cu124')"
      ]
     },
     "execution_count": 3,
     "metadata": {},
     "output_type": "execute_result"
    }
   ],
   "source": [
    "torch.__version__, torchvision.__version__"
   ]
  },
  {
   "cell_type": "markdown",
   "id": "9ec9ae3f-0aa5-4d93-89d7-6ac4981ff58f",
   "metadata": {
    "jp-MarkdownHeadingCollapsed": true
   },
   "source": [
    "# Device"
   ]
  },
  {
   "cell_type": "code",
   "execution_count": 4,
   "id": "9cc03400-5a0a-4311-9855-44f10622fbee",
   "metadata": {},
   "outputs": [
    {
     "data": {
      "text/plain": [
       "'cuda'"
      ]
     },
     "execution_count": 4,
     "metadata": {},
     "output_type": "execute_result"
    }
   ],
   "source": [
    "device = \"cuda\" if torch.cuda.is_available() else \"cpu\"\n",
    "device"
   ]
  },
  {
   "cell_type": "markdown",
   "id": "352bce4a-6307-4412-8121-11690275753e",
   "metadata": {
    "jp-MarkdownHeadingCollapsed": true
   },
   "source": [
    "# Utils, functions, and classes"
   ]
  },
  {
   "cell_type": "code",
   "execution_count": 16,
   "id": "543f6ce3-c511-4339-9886-529d95038977",
   "metadata": {},
   "outputs": [],
   "source": [
    "def num_params(model, trainable=False):\n",
    "    num = sum([p.numel() for p in model.parameters() if p.requires_grad])\n",
    "    print(f\"The number of parameters: {num:,}\")"
   ]
  },
  {
   "cell_type": "code",
   "execution_count": 17,
   "id": "5809fd12-c2f7-4ff3-a9dc-0bca059b9f79",
   "metadata": {},
   "outputs": [],
   "source": [
    "class Averaging():\n",
    "    def __init__(self):\n",
    "        self.sum = 0.\n",
    "        self.counter = 0\n",
    "\n",
    "    def __call__(self, val: float) -> float:\n",
    "        self.sum += val\n",
    "        self.counter += 1\n",
    "\n",
    "        return self.sum / self.counter\n",
    "\n",
    "    def reset(self):\n",
    "        self.sum = 0.\n",
    "        self.counter = 0"
   ]
  },
  {
   "cell_type": "code",
   "execution_count": 18,
   "id": "02d20f4f-d142-40f8-8554-9aecdb318b26",
   "metadata": {},
   "outputs": [],
   "source": [
    "def train_one_epoch(model, dataloader, optimizer, loss_fn, avg_fn, acc_fn, ep, device):\n",
    "    model.train()\n",
    "    \n",
    "    acc_fn.reset()\n",
    "    avg_fn.reset()\n",
    "    \n",
    "    with tqdm(dataloader, desc=f\"Epoch {ep}\", unit=\" batch\") as trange:\n",
    "       for x_batch, y_batch in trange:\n",
    "           x_batch, y_batch = x_batch.to(device), y_batch.to(device)\n",
    "\n",
    "           # Forward\n",
    "           yp = model(x_batch)\n",
    "           loss = loss_fn(yp, y_batch)\n",
    "           \n",
    "           # Backward\n",
    "           loss.backward()\n",
    "           optimizer.step()\n",
    "           optimizer.zero_grad()\n",
    "\n",
    "           loss_avg = avg_fn(loss.item())\n",
    "           acc_fn(yp, y_batch)\n",
    "           acc_avg = acc_fn.compute().item()\n",
    "\n",
    "           trange.set_postfix(loss=loss_avg, acc=100*acc_avg)\n",
    "    \n",
    "    return model, loss_avg, acc_avg"
   ]
  },
  {
   "cell_type": "code",
   "execution_count": 19,
   "id": "baa4b40c-0509-4573-966a-bfd70f43c3d8",
   "metadata": {},
   "outputs": [],
   "source": [
    "def validate_one_epoch(model, dataloader, loss_fn, avg_fn, acc_fn, device):\n",
    "    model.eval()\n",
    "    \n",
    "    acc_fn.reset()\n",
    "    avg_fn.reset()\n",
    "\n",
    "    with torch.no_grad():\n",
    "        for x_batch, y_batch in dataloader:\n",
    "            x_batch, y_batch = x_batch.to(device), y_batch.to(device)\n",
    "            \n",
    "            # Forward\n",
    "            yp = model(x_batch)\n",
    "            loss = loss_fn(yp, y_batch)\n",
    "            \n",
    "            loss_avg = avg_fn(loss.item())\n",
    "            acc_fn(yp, y_batch)\n",
    "            acc_avg = acc_fn.compute().item()\n",
    "        \n",
    "    return loss_avg, acc_avg"
   ]
  },
  {
   "cell_type": "code",
   "execution_count": 20,
   "id": "749c44ea-e7d0-4a8e-a9a3-0c4eeca27a1b",
   "metadata": {},
   "outputs": [],
   "source": [
    "def plot_loss_acc(train_loss, train_acc, valid_loss, valid_acc):\n",
    "    fig, axs = plt.subplots(nrows=1, ncols=2, figsize=(12, 4))\n",
    "\n",
    "    axs[0].plot(train_loss, c='b', label=\"Train Loss\")\n",
    "    axs[0].plot(valid_loss, c='r', label=\"Valid Loss\")\n",
    "    \n",
    "    axs[1].plot(train_acc, c='b', label=\"Valid Acc\")\n",
    "    axs[1].plot(valid_acc, c='r', label=\"Valid Acc\")\n",
    "\n",
    "    axs[0].set_ylabel(\"Cross Entropy Loss\")\n",
    "    axs[0].set_title(\"Learning Curve\")\n",
    "    axs[1].set_ylabel(\"Accuracy\")\n",
    "    axs[1].set_title(\"Accuracy Curve\")\n",
    "    \n",
    "    for ax in axs:\n",
    "        ax.set_xlabel(\"Epoch\")\n",
    "        ax.legend()\n",
    "        ax.grid()"
   ]
  },
  {
   "cell_type": "markdown",
   "id": "56507cb5-3714-4bb2-8545-6cb11f96897c",
   "metadata": {
    "jp-MarkdownHeadingCollapsed": true
   },
   "source": [
    "# Inits"
   ]
  },
  {
   "cell_type": "code",
   "execution_count": 353,
   "id": "e5c87dad-9b5a-460e-ade2-58a8cbcb2e55",
   "metadata": {},
   "outputs": [],
   "source": [
    "img_size = (224, 224)\n",
    "trans_mean, trans_std = (0.485, 0.456, 0.406), (0.229, 0.224, 0.225)\n",
    "valid_set_size = 0.2\n",
    "train_batch_size = 128\n",
    "valid_batch_size = 256\n",
    "subset_size = 0.3\n",
    "num_cls = 120\n",
    "\n",
    "lr = 0.01\n",
    "epochs = 10\n",
    "\n",
    "loss_fn = nn.CrossEntropyLoss()\n",
    "avg_fn = Averaging()\n",
    "acc_fn = Accuracy(task=\"multiclass\", num_classes=num_cls).to(device)"
   ]
  },
  {
   "cell_type": "markdown",
   "id": "dfa7b9e8-1ea6-4ac3-9d0e-94d59209252f",
   "metadata": {
    "jp-MarkdownHeadingCollapsed": true
   },
   "source": [
    "# Preprocessing <a href=\"http://vision.stanford.edu/aditya86/ImageNetDogs/\">Download Dataset</a>"
   ]
  },
  {
   "cell_type": "markdown",
   "id": "a34c73f2-dc37-42ac-83d2-9413c92654de",
   "metadata": {
    "jp-MarkdownHeadingCollapsed": true
   },
   "source": [
    "## Transforms for images"
   ]
  },
  {
   "cell_type": "code",
   "execution_count": 6,
   "id": "751e3353-9613-4ba3-a937-ebb3078d7c68",
   "metadata": {},
   "outputs": [],
   "source": [
    "train_transforms = T.Compose([T.RandAugment(), T.Resize(img_size), T.ToTensor(), T.Normalize(mean=trans_mean, std=trans_std)])\n",
    "test_transforms = T.Compose([T.Resize(img_size), T.ToTensor(), T.Normalize(mean=trans_mean, std=trans_std)])"
   ]
  },
  {
   "cell_type": "markdown",
   "id": "d2211e1e-f0e9-4a9a-a254-bb6c6ffdbf7f",
   "metadata": {
    "jp-MarkdownHeadingCollapsed": true
   },
   "source": [
    "## Custom dataset"
   ]
  },
  {
   "cell_type": "code",
   "execution_count": 305,
   "id": "c0417854-ce41-45b7-b0c6-f85f1829b5c6",
   "metadata": {},
   "outputs": [],
   "source": [
    "class StanfordDogsDataset(Dataset):\n",
    "    def __init__(self, transforms, phase=\"train\", root_path=r\"./dogs_dataset\"):\n",
    "        self.transforms = transforms\n",
    "        \n",
    "        images_root_path = f\"{root_path}/images/\"\n",
    "        \n",
    "        mat_file = loadmat(root_path+f\"/{phase}_list\")\n",
    "\n",
    "        self.file_list = mat_file[\"file_list\"]\n",
    "        self.labels = torch.LongTensor(mat_file[\"labels\"]).squeeze() - 1\n",
    "        \n",
    "        self.images = [(images_root_path+f[0][0], l.item()) for f, l in zip(self.file_list, self.labels)]\n",
    "\n",
    "        # unique samples\n",
    "        self.sample_ls = []\n",
    "        pattern = r'-(\\w+)'\n",
    "        for sample in listdir(\"./dogs_dataset/Annotation\"):\n",
    "            match = re.search(pattern, sample.lower())\n",
    "            if match:\n",
    "                self.sample_ls.append(match.group(1))\n",
    "\n",
    "    def __getitem__(self, item_idx: int):\n",
    "        img_path, label = self.images[item_idx]\n",
    "        img = Image.open(img_path).convert(\"RGB\")\n",
    "        img = self.transforms(img)\n",
    "        \n",
    "        return img, label\n",
    "\n",
    "    def get_sample_name(self, label: int):\n",
    "        return self.sample_ls[label]\n",
    "        \n",
    "    def __len__(self):\n",
    "        return len(self.images)"
   ]
  },
  {
   "cell_type": "markdown",
   "id": "ea1e7353-dd17-420b-a53f-ca53497c6ce4",
   "metadata": {
    "jp-MarkdownHeadingCollapsed": true
   },
   "source": [
    "## Read datasets"
   ]
  },
  {
   "cell_type": "code",
   "execution_count": 8,
   "id": "2661718c-a697-484e-8d63-c961a47eb1c2",
   "metadata": {},
   "outputs": [],
   "source": [
    "main_train_set = StanfordDogsDataset(train_transforms)\n",
    "test_set = StanfordDogsDataset(test_transforms, \"test\")"
   ]
  },
  {
   "cell_type": "markdown",
   "id": "559ba121-8403-4619-827e-d5fdd31c0276",
   "metadata": {
    "jp-MarkdownHeadingCollapsed": true
   },
   "source": [
    "## Split train and valid sets"
   ]
  },
  {
   "cell_type": "code",
   "execution_count": 9,
   "id": "2a850e91-564d-4623-9b6c-c4a3fcda44ee",
   "metadata": {},
   "outputs": [],
   "source": [
    "train_set, valid_set = random_split(main_train_set, lengths=[1 - valid_set_size, valid_set_size])"
   ]
  },
  {
   "cell_type": "markdown",
   "id": "438ad1fc-f5cc-42dc-8551-4aa6fc4098ff",
   "metadata": {
    "jp-MarkdownHeadingCollapsed": true
   },
   "source": [
    "## Make dataloader"
   ]
  },
  {
   "cell_type": "code",
   "execution_count": 10,
   "id": "73427acb-52b8-43b9-9b73-c378c620c49a",
   "metadata": {},
   "outputs": [],
   "source": [
    "train_loader = DataLoader(train_set, train_batch_size, shuffle=True)\n",
    "valid_loader = DataLoader(valid_set, valid_batch_size)\n",
    "test_loader = DataLoader(test_set, valid_batch_size)"
   ]
  },
  {
   "cell_type": "markdown",
   "id": "de1de4f0-7d2d-4449-8f0c-5ed8425bc8ec",
   "metadata": {
    "jp-MarkdownHeadingCollapsed": true
   },
   "source": [
    "## Visialize a batch"
   ]
  },
  {
   "cell_type": "code",
   "execution_count": 11,
   "id": "3238c6d3-915e-497e-b92d-4804574fbb55",
   "metadata": {},
   "outputs": [
    {
     "data": {
      "text/plain": [
       "(torch.Size([128, 3, 224, 224]),\n",
       " tensor([ 18,  17,  60, 105, 110,  35, 100,   5,  88,  42,  87,  74,  53,  39,\n",
       "          79,  74,  29,  57,  58,  19,  53,  38,  26,  53, 114,  34,  55, 112,\n",
       "          98,  86,  35,  90,  81, 101,   2,  81, 110, 112,  29,  53,  56,  88,\n",
       "           7,  83,  17,   5,  96,  53,  31,  72,  81,  61,  91,  58, 101,  73,\n",
       "          97, 115,  31,  88,  89,  73,  11,  49,  26,  52,  55,  56,  61,  59,\n",
       "          26,  22, 102,  68,  67,  45,  78,  29,  50,  25, 105, 107,  72,  99,\n",
       "          99,  85,  27,  74, 103,  60,  98,  82,   1,  88, 115, 115,  16,  12,\n",
       "          95,  42,   2,  12,  68,  23, 103,  64,  66,  58, 100,   9, 114,  15,\n",
       "           4,  37,  23, 114, 106,  42, 109,  91,  71,  73,  98,  90,  86,  90,\n",
       "          74,  83]))"
      ]
     },
     "execution_count": 11,
     "metadata": {},
     "output_type": "execute_result"
    }
   ],
   "source": [
    "x, y = next(iter(train_loader))\n",
    "\n",
    "x.shape, y"
   ]
  },
  {
   "cell_type": "code",
   "execution_count": 12,
   "id": "4718b743-29a8-4bc9-91d3-8fc50471b02e",
   "metadata": {},
   "outputs": [
    {
     "data": {
      "image/png": "[encoded data removed]",
      "text/plain": [
       "<Figure size 640x480 with 1 Axes>"
      ]
     },
     "metadata": {},
     "output_type": "display_data"
    }
   ],
   "source": [
    "img_grid = make_grid(x, nrow=32, padding=6, normalize=True).permute(1, 2, 0)\n",
    "\n",
    "plt.title(\"A batch images\")\n",
    "plt.imshow(img_grid);"
   ]
  },
  {
   "cell_type": "markdown",
   "id": "82151b77-be79-4d6c-9548-4c27947395db",
   "metadata": {
    "jp-MarkdownHeadingCollapsed": true
   },
   "source": [
    "# Model"
   ]
  },
  {
   "cell_type": "code",
   "execution_count": 14,
   "id": "1df65098-dfad-4c91-a0bc-63dfd38bef1a",
   "metadata": {},
   "outputs": [],
   "source": [
    "class CustomResNet(nn.Module):\n",
    "    def __init__(self, model=models.resnet50, pretrained_weights=models.ResNet50_Weights.IMAGENET1K_V2, num_cls:int=120):\n",
    "        super(CustomResNet, self).__init__()\n",
    "\n",
    "        self.model = model(weights=pretrained_weights)\n",
    "        in_features = self.model.fc.in_features\n",
    "        self.num_cls = num_cls\n",
    "\n",
    "        # Remove the last two layers (AvgPool and FC) to just use the output Feature Map of the Body\n",
    "        self.model = nn.Sequential(*list(self.model.children())[:-2])\n",
    "\n",
    "        self.avg_pool = nn.AdaptiveAvgPool2d(output_size=(1, 1))\n",
    "        self.fc = nn.Linear(in_features=in_features, out_features=self.num_cls)\n",
    "\n",
    "        # Freeze the Body of the model for fine-tunning (Just train the output layer)\n",
    "        self.model.requires_grad_(False)\n",
    "    \n",
    "    def forward(self, x: Tensor):\n",
    "        y = self.model(x)\n",
    "        y = self.avg_pool(y)\n",
    "        y = self.fc(y.flatten(1))\n",
    "        \n",
    "        return y"
   ]
  },
  {
   "cell_type": "markdown",
   "id": "ed9ee2b9-cbc2-4edf-8c79-0a334ad0319b",
   "metadata": {
    "jp-MarkdownHeadingCollapsed": true
   },
   "source": [
    "# Check forward and backward"
   ]
  },
  {
   "attachments": {},
   "cell_type": "markdown",
   "id": "6ec5fb80-d945-4b21-90eb-c3b80842a885",
   "metadata": {
    "jp-MarkdownHeadingCollapsed": true
   },
   "source": [
    "## Create a subset"
   ]
  },
  {
   "cell_type": "markdown",
   "id": "c463c862-40fd-45de-a52f-7cdc026a0714",
   "metadata": {
    "jp-MarkdownHeadingCollapsed": true
   },
   "source": [
    "### Mini train set"
   ]
  },
  {
   "cell_type": "code",
   "execution_count": 19,
   "id": "711c7c30-cc2b-445f-a5a3-eb3477166972",
   "metadata": {},
   "outputs": [],
   "source": [
    "_, train_subset = random_split(train_set, lengths=[1 - subset_size, subset_size])\n",
    "mini_train_loader = DataLoader(train_subset, train_batch_size, shuffle=True)"
   ]
  },
  {
   "cell_type": "markdown",
   "id": "cb275941-c349-4d11-8cde-fb0046960568",
   "metadata": {
    "jp-MarkdownHeadingCollapsed": true
   },
   "source": [
    "### Mini valid set"
   ]
  },
  {
   "cell_type": "code",
   "execution_count": 20,
   "id": "7b4fa6ba-6b5a-477d-b615-2fbde02bb39f",
   "metadata": {},
   "outputs": [],
   "source": [
    "_, valid_subset = random_split(valid_set, lengths=[1 - subset_size, subset_size])\n",
    "mini_valid_loader = DataLoader(valid_subset, valid_batch_size)"
   ]
  },
  {
   "cell_type": "markdown",
   "id": "17d14b86-491c-4009-9423-88a83fe8e897",
   "metadata": {
    "jp-MarkdownHeadingCollapsed": true
   },
   "source": [
    "## Check forward path"
   ]
  },
  {
   "cell_type": "code",
   "execution_count": 21,
   "id": "106d0bcd-6499-4d7f-b10e-1cea097fdef9",
   "metadata": {},
   "outputs": [
    {
     "name": "stdout",
     "output_type": "stream",
     "text": [
      "The number of parameters: 245,880\n"
     ]
    },
    {
     "data": {
      "text/plain": [
       "4.802856922149658"
      ]
     },
     "execution_count": 21,
     "metadata": {},
     "output_type": "execute_result"
    }
   ],
   "source": [
    "model = CustomResNet().to(device)\n",
    "num_params(model)\n",
    "\n",
    "with torch.no_grad():\n",
    "    yp = model(x.to(device))\n",
    "    loss = loss_fn(yp, y.to(device))\n",
    "\n",
    "torch.cuda.empty_cache()\n",
    "\n",
    "loss.item()"
   ]
  },
  {
   "cell_type": "markdown",
   "id": "ea06b2d7-7f90-4279-af4b-ff5912628b4e",
   "metadata": {},
   "source": [
    "## Check backward path"
   ]
  },
  {
   "cell_type": "code",
   "execution_count": 22,
   "id": "977bc8cf-c7f9-48c6-b619-7443720bde19",
   "metadata": {},
   "outputs": [
    {
     "name": "stderr",
     "output_type": "stream",
     "text": [
      "Epoch 0: 100%|████████████████████████████████████████████████| 23/23 [01:03<00:00,  2.74s/ batch, acc=11.7, loss=4.64]\n"
     ]
    },
    {
     "name": "stdout",
     "output_type": "stream",
     "text": [
      "Valid acc: 41.1, loss: 4.36\n"
     ]
    },
    {
     "name": "stderr",
     "output_type": "stream",
     "text": [
      "Epoch 1: 100%|███████████████████████████████████████████████████| 23/23 [01:03<00:00,  2.78s/ batch, acc=59.2, loss=4]\n"
     ]
    },
    {
     "name": "stdout",
     "output_type": "stream",
     "text": [
      "Valid acc: 59.9, loss: 3.74\n"
     ]
    },
    {
     "name": "stderr",
     "output_type": "stream",
     "text": [
      "Epoch 2: 100%|████████████████████████████████████████████████| 23/23 [01:03<00:00,  2.78s/ batch, acc=71.5, loss=3.33]\n"
     ]
    },
    {
     "name": "stdout",
     "output_type": "stream",
     "text": [
      "Valid acc: 66.0, loss: 3.16\n"
     ]
    }
   ],
   "source": [
    "model = CustomResNet().to(device)\n",
    "optimizer = optim.SGD(params=model.parameters(), lr=lr, momentum=0.9)\n",
    "\n",
    "for ep in range(3):\n",
    "    model, _, _ = train_one_epoch(model, mini_train_loader, optimizer, loss_fn, avg_fn, acc_fn, ep, device)\n",
    "    valid_loss_val, valid_acc_val = validate_one_epoch(model, mini_valid_loader, loss_fn, avg_fn, acc_fn, device)\n",
    "    \n",
    "    print(f\"Valid acc: {100*valid_acc_val:.3}, loss: {valid_loss_val:.3}\")\n",
    "\n",
    "torch.cuda.empty_cache()"
   ]
  },
  {
   "cell_type": "markdown",
   "id": "ed4765bc-17e2-4c22-99b8-af4b5daba23c",
   "metadata": {
    "jp-MarkdownHeadingCollapsed": true
   },
   "source": [
    "# Find efficient hyper-parameters"
   ]
  },
  {
   "cell_type": "code",
   "execution_count": 23,
   "id": "c08ca65d-4b4e-48a8-a938-f387ee80ad3a",
   "metadata": {},
   "outputs": [],
   "source": [
    "# for lr in [0.001, 0.01, 0.02]:\n",
    "#     model = CustomResNet().to(device)\n",
    "#     optimizer = optim.SGD(params=model.parameters(), lr=lr, momentum=0.9)\n",
    "\n",
    "#     print(f\"\\nlr: {lr}\")\n",
    "#     for ep in range(3):\n",
    "#         model, _, _ = train_one_epoch(model, train_loader, optimizer, loss_fn, avg_fn, acc_fn, ep, device)\n",
    "\n",
    "# torch.cuda.empty_cache()"
   ]
  },
  {
   "cell_type": "markdown",
   "id": "46fa8938-9102-4106-abd4-b33e5606153e",
   "metadata": {},
   "source": [
    "# Full train"
   ]
  },
  {
   "cell_type": "code",
   "execution_count": 24,
   "id": "2ff015ca-ccaa-4f63-a18e-f8f1b14fde7f",
   "metadata": {},
   "outputs": [
    {
     "name": "stdout",
     "output_type": "stream",
     "text": [
      "The number of parameters: 245,880\n"
     ]
    }
   ],
   "source": [
    "model = CustomResNet().to(device)\n",
    "optimizer = optim.SGD(params=model.parameters(), lr=lr, momentum=0.9)\n",
    "\n",
    "num_params(model)"
   ]
  },
  {
   "cell_type": "code",
   "execution_count": 25,
   "id": "3bac4bae-2d2c-4650-819e-b0f76f6acc1c",
   "metadata": {},
   "outputs": [],
   "source": [
    "train_loss_hist, valid_loss_hist, train_acc_hist, valid_acc_hist = [], [], [], []"
   ]
  },
  {
   "cell_type": "code",
   "execution_count": 26,
   "id": "7d955279-f6df-4e8b-92d3-89a7329e749b",
   "metadata": {},
   "outputs": [
    {
     "name": "stderr",
     "output_type": "stream",
     "text": [
      "Epoch 0: 100%|████████████████████████████████████████████████| 75/75 [03:22<00:00,  2.69s/ batch, acc=48.2, loss=3.98]\n"
     ]
    },
    {
     "name": "stdout",
     "output_type": "stream",
     "text": [
      "Valid acc: 73.2, loss: 3.06\n"
     ]
    },
    {
     "name": "stderr",
     "output_type": "stream",
     "text": [
      "Epoch 1: 100%|████████████████████████████████████████████████| 75/75 [03:16<00:00,  2.62s/ batch, acc=79.9, loss=2.26]\n"
     ]
    },
    {
     "name": "stdout",
     "output_type": "stream",
     "text": [
      "Valid acc: 79.3, loss: 1.78\n"
     ]
    },
    {
     "name": "stderr",
     "output_type": "stream",
     "text": [
      "Epoch 2: 100%|████████████████████████████████████████████████| 75/75 [03:18<00:00,  2.64s/ batch, acc=84.2, loss=1.36]\n"
     ]
    },
    {
     "name": "stdout",
     "output_type": "stream",
     "text": [
      "Valid acc: 81.2, loss: 1.2\n"
     ]
    },
    {
     "name": "stderr",
     "output_type": "stream",
     "text": [
      "Epoch 3: 100%|███████████████████████████████████████████████| 75/75 [03:17<00:00,  2.64s/ batch, acc=85.8, loss=0.987]\n"
     ]
    },
    {
     "name": "stdout",
     "output_type": "stream",
     "text": [
      "Valid acc: 81.9, loss: 0.98\n"
     ]
    },
    {
     "name": "stderr",
     "output_type": "stream",
     "text": [
      "Epoch 4: 100%|███████████████████████████████████████████████| 75/75 [03:16<00:00,  2.62s/ batch, acc=87.1, loss=0.801]\n"
     ]
    },
    {
     "name": "stdout",
     "output_type": "stream",
     "text": [
      "Valid acc: 83.2, loss: 0.842\n"
     ]
    },
    {
     "name": "stderr",
     "output_type": "stream",
     "text": [
      "Epoch 5: 100%|████████████████████████████████████████████████| 75/75 [03:17<00:00,  2.63s/ batch, acc=87.3, loss=0.71]\n"
     ]
    },
    {
     "name": "stdout",
     "output_type": "stream",
     "text": [
      "Valid acc: 83.4, loss: 0.775\n"
     ]
    },
    {
     "name": "stderr",
     "output_type": "stream",
     "text": [
      "Epoch 6: 100%|███████████████████████████████████████████████| 75/75 [03:17<00:00,  2.64s/ batch, acc=88.2, loss=0.632]\n"
     ]
    },
    {
     "name": "stdout",
     "output_type": "stream",
     "text": [
      "Valid acc: 82.8, loss: 0.743\n"
     ]
    },
    {
     "name": "stderr",
     "output_type": "stream",
     "text": [
      "Epoch 7: 100%|███████████████████████████████████████████████| 75/75 [03:17<00:00,  2.63s/ batch, acc=88.4, loss=0.589]\n"
     ]
    },
    {
     "name": "stdout",
     "output_type": "stream",
     "text": [
      "Valid acc: 83.3, loss: 0.704\n"
     ]
    },
    {
     "name": "stderr",
     "output_type": "stream",
     "text": [
      "Epoch 8: 100%|███████████████████████████████████████████████| 75/75 [03:15<00:00,  2.60s/ batch, acc=88.9, loss=0.552]\n"
     ]
    },
    {
     "name": "stdout",
     "output_type": "stream",
     "text": [
      "Valid acc: 83.7, loss: 0.659\n"
     ]
    },
    {
     "name": "stderr",
     "output_type": "stream",
     "text": [
      "Epoch 9: 100%|███████████████████████████████████████████████| 75/75 [03:14<00:00,  2.59s/ batch, acc=89.6, loss=0.512]\n"
     ]
    },
    {
     "name": "stdout",
     "output_type": "stream",
     "text": [
      "Valid acc: 83.7, loss: 0.644\n"
     ]
    }
   ],
   "source": [
    "for ep in range(epochs):\n",
    "    model, train_loss_val, train_acc_val = train_one_epoch(model, train_loader, optimizer, loss_fn, avg_fn, acc_fn, ep, device)\n",
    "    valid_loss_val, valid_acc_val = validate_one_epoch(model, valid_loader, loss_fn, avg_fn, acc_fn, device)\n",
    "\n",
    "    train_loss_hist.append(train_loss_val)\n",
    "    valid_loss_hist.append(valid_loss_val)\n",
    "    train_acc_hist.append(train_acc_val)\n",
    "    valid_acc_hist.append(valid_acc_val)\n",
    "\n",
    "    print(f\"Valid acc: {100*valid_acc_val:.3}, loss: {valid_loss_val:.3}\")\n",
    "\n",
    "torch.cuda.empty_cache()"
   ]
  },
  {
   "cell_type": "markdown",
   "id": "1369e24d-55ae-4a8e-ad57-ff60e5c516a5",
   "metadata": {},
   "source": [
    "# Plot loss and accuracy"
   ]
  },
  {
   "cell_type": "code",
   "execution_count": 27,
   "id": "d1fb17e5-db3b-44ef-a651-72e9bc2539c0",
   "metadata": {},
   "outputs": [
    {
     "data": {
      "image/png": "[encoded data removed]",
      "text/plain": [
       "<Figure size 1200x400 with 2 Axes>"
      ]
     },
     "metadata": {},
     "output_type": "display_data"
    }
   ],
   "source": [
    "plot_loss_acc(train_loss_hist, train_acc_hist, valid_loss_hist, valid_acc_hist)"
   ]
  },
  {
   "cell_type": "markdown",
   "id": "7d7e1bdc-9869-4377-b976-4405713e6475",
   "metadata": {},
   "source": [
    "## Save the trained model"
   ]
  },
  {
   "cell_type": "code",
   "execution_count": 51,
   "id": "c90dcf03-56db-4680-9503-ecd233180da4",
   "metadata": {},
   "outputs": [
    {
     "name": "stdout",
     "output_type": "stream",
     "text": [
      "83.75\n"
     ]
    }
   ],
   "source": [
    "print(f\"{100*valid_acc_hist[-1]:.4}\")"
   ]
  },
  {
   "cell_type": "code",
   "execution_count": 54,
   "id": "a1cf1e78-12bb-49f6-a878-cd4ce675beda",
   "metadata": {},
   "outputs": [],
   "source": [
    "torch.save(model, f\"final_model_{100*valid_acc_hist[-1]:.4}_accuracy.pt\")"
   ]
  },
  {
   "cell_type": "markdown",
   "id": "a6ffd225-fbe3-4f8b-b65c-4262666b61a3",
   "metadata": {},
   "source": [
    "# Final test and report"
   ]
  },
  {
   "cell_type": "markdown",
   "id": "0e8dc0a1-d110-4da5-bd75-ef58b8a04764",
   "metadata": {
    "jp-MarkdownHeadingCollapsed": true
   },
   "source": [
    "## Load the trained model"
   ]
  },
  {
   "cell_type": "code",
   "execution_count": 343,
   "id": "9bd6a962-2c88-4099-b37c-fc0604cfc4ff",
   "metadata": {},
   "outputs": [],
   "source": [
    "final_model = torch.load(\"./final_model_83.75_accuracy.pt\", weights_only=False).to(device)"
   ]
  },
  {
   "cell_type": "markdown",
   "id": "e2223688-1cf7-4f69-8c90-38b2e0458c16",
   "metadata": {},
   "source": [
    "## Run and report the model on Testset"
   ]
  },
  {
   "cell_type": "code",
   "execution_count": 317,
   "id": "51a8c043-4115-4e5c-bc7d-52ca6c7e701e",
   "metadata": {},
   "outputs": [],
   "source": [
    "loss, acc = validate_one_epoch(final_model, test_loader, loss_fn, avg_fn, acc_fn, device)\n",
    "\n",
    "torch.cuda.empty_cache()"
   ]
  },
  {
   "cell_type": "code",
   "execution_count": 332,
   "id": "a5bfaf16-ba3f-419b-9d41-0ce8f853efbd",
   "metadata": {},
   "outputs": [
    {
     "name": "stdout",
     "output_type": "stream",
     "text": [
      "Testset report on (8580) samples:\n",
      "\tCros Entropy Loss: 0.478\n",
      "\tAccuracy: 88.68\n"
     ]
    }
   ],
   "source": [
    "print(f\"Testset report on ({len(test_set)}) samples:\\n\\tCros Entropy Loss: {loss:.4}\\n\\tAccuracy: {100*acc:.4}\")"
   ]
  },
  {
   "cell_type": "markdown",
   "id": "6d4aa40e-7377-40e1-985e-94b202c9f193",
   "metadata": {
    "jp-MarkdownHeadingCollapsed": true
   },
   "source": [
    "## Test your desiered image"
   ]
  },
  {
   "cell_type": "code",
   "execution_count": 351,
   "id": "6f78aa8d-5892-4ce0-b21f-dd7f23201a4c",
   "metadata": {},
   "outputs": [
    {
     "name": "stdout",
     "output_type": "stream",
     "text": [
      "The kind of dog is: appenzeller\n"
     ]
    }
   ],
   "source": [
    "test_img = Image.open(r\"./self_test_dogs_images/rottweiler-1-1.jpg\")\n",
    "\n",
    "res = final_model(test_transforms(test_img).unsqueeze(0).to(device))\n",
    "soft = torch.softmax(res, dim=1)\n",
    "res = torch.argmax(soft).item()\n",
    "dataset_obj = StanfordDogsDataset(test_transforms)\n",
    "res = dataset_obj.get_sample_name(res)\n",
    "\n",
    "print(f\"The kind of dog is: {res}\")"
   ]
  }
 ],
 "metadata": {
  "kernelspec": {
   "display_name": "Python 3 (ipykernel)",
   "language": "python",
   "name": "python3"
  },
  "language_info": {
   "codemirror_mode": {
    "name": "ipython",
    "version": 3
   },
   "file_extension": ".py",
   "mimetype": "text/x-python",
   "name": "python",
   "nbconvert_exporter": "python",
   "pygments_lexer": "ipython3",
   "version": "3.12.5"
  }
 },
 "nbformat": 4,
 "nbformat_minor": 5
}
